{
  "nbformat": 4,
  "nbformat_minor": 0,
  "metadata": {
    "colab": {
      "provenance": []
    },
    "kernelspec": {
      "name": "python3",
      "display_name": "Python 3"
    },
    "language_info": {
      "name": "python"
    }
  },
  "cells": [
    {
      "cell_type": "code",
      "execution_count": 2,
      "metadata": {
        "id": "NeKR2jCG5aTS"
      },
      "outputs": [],
      "source": [
        "import requests\n",
        "\n",
        "API_URL =\"https://script.google.com/macros/s/AKfycbwS_LTHxFlERLWYndg-K5Le-5v7f3lhV63oepbWu2Uvz9foloCf187IjzSIMVKG99H8Bg/exec\"\n",
        "\n",
        "name = \"John\"\n",
        "email = \"John@john.com\"\n",
        "\n",
        "response = requests.post(API_URL,json ={\"name\":name,\"email\":email})\n"
      ]
    },
    {
      "cell_type": "code",
      "source": [
        "response.text"
      ],
      "metadata": {
        "colab": {
          "base_uri": "https://localhost:8080/",
          "height": 36
        },
        "id": "9HFFK3zhAmIJ",
        "outputId": "dbe60fd2-7ebf-403c-9a18-b7aa9204f4ca"
      },
      "execution_count": 3,
      "outputs": [
        {
          "output_type": "execute_result",
          "data": {
            "text/plain": [
              "'Success'"
            ],
            "application/vnd.google.colaboratory.intrinsic+json": {
              "type": "string"
            }
          },
          "metadata": {},
          "execution_count": 3
        }
      ]
    },
    {
      "cell_type": "code",
      "source": [
        "response = requests.get(API_URL)\n",
        "\n",
        "response.json()"
      ],
      "metadata": {
        "colab": {
          "base_uri": "https://localhost:8080/"
        },
        "id": "kFdrfYnuAoRd",
        "outputId": "c742cc4d-84b4-4021-94c8-1ca1dd2bb321"
      },
      "execution_count": 5,
      "outputs": [
        {
          "output_type": "execute_result",
          "data": {
            "text/plain": [
              "[{'Timestamp': '2025-08-25T06:56:04.000Z',\n",
              "  'name': 'John',\n",
              "  'email': 'John@john.com'},\n",
              " {'Timestamp': '2025-08-25T07:01:59.000Z',\n",
              "  'name': 'Kitty',\n",
              "  'email': 'kitty123@gmail.com'},\n",
              " {'Timestamp': '2025-08-25T07:08:26.000Z',\n",
              "  'name': 'Emma',\n",
              "  'email': 'emma@gmail.com'},\n",
              " {'Timestamp': '2025-08-25T07:32:12.000Z',\n",
              "  'name': 'Kitty',\n",
              "  'email': 'kitty123@gmail.com'},\n",
              " {'Timestamp': '2025-08-25T07:32:15.000Z',\n",
              "  'name': 'Kitty',\n",
              "  'email': 'kitty123@gmail.com'},\n",
              " {'Timestamp': '2025-08-25T07:33:39.000Z',\n",
              "  'name': 'Kitty',\n",
              "  'email': 'kitty123@gmail.com'},\n",
              " {'Timestamp': '2025-08-25T07:34:01.000Z',\n",
              "  'name': 'Kitty',\n",
              "  'email': 'kitty123@gmail.com'},\n",
              " {'Timestamp': '2025-08-25T07:36:34.000Z',\n",
              "  'name': 'Kitty',\n",
              "  'email': 'kitty123@gmail.com'},\n",
              " {'Timestamp': '2025-08-25T07:36:57.000Z',\n",
              "  'name': 'John',\n",
              "  'email': 'John@john.com'},\n",
              " {'Timestamp': '2025-08-25T07:37:27.000Z',\n",
              "  'name': 'John',\n",
              "  'email': 'John@john.com'},\n",
              " {'Timestamp': '2025-08-25T07:38:10.000Z',\n",
              "  'name': 'John',\n",
              "  'email': 'John@john.com'},\n",
              " {'Timestamp': '2025-08-25T07:39:16.000Z',\n",
              "  'name': 'John',\n",
              "  'email': 'John@john.com'},\n",
              " {'Timestamp': '2025-08-25T07:39:20.000Z',\n",
              "  'name': 'John',\n",
              "  'email': 'John@john.com'},\n",
              " {'Timestamp': '2025-08-25T07:40:38.000Z',\n",
              "  'name': 'John',\n",
              "  'email': 'John@john.com'},\n",
              " {'Timestamp': '2025-08-25T07:40:42.000Z',\n",
              "  'name': 'John',\n",
              "  'email': 'John@john.com'},\n",
              " {'Timestamp': '2025-08-25T07:56:48.000Z',\n",
              "  'name': 'John',\n",
              "  'email': 'John@john.com'},\n",
              " {'Timestamp': '2025-08-25T07:56:52.000Z',\n",
              "  'name': 'John',\n",
              "  'email': 'John@john.com'},\n",
              " {'Timestamp': '2025-08-25T08:11:34.000Z',\n",
              "  'name': 'John',\n",
              "  'email': 'John@john.com'},\n",
              " {'Timestamp': '2025-08-25T08:11:40.000Z',\n",
              "  'name': 'John',\n",
              "  'email': 'John@john.com'},\n",
              " {'Timestamp': '2025-08-25T08:12:38.000Z',\n",
              "  'name': 'John',\n",
              "  'email': 'John@john.com'},\n",
              " {'Timestamp': '2025-08-25T08:12:42.000Z',\n",
              "  'name': 'John',\n",
              "  'email': 'John@john.com'},\n",
              " {'Timestamp': '2025-08-25T08:13:13.000Z',\n",
              "  'name': 'John',\n",
              "  'email': 'John@john.com'},\n",
              " {'Timestamp': '2025-08-25T08:14:34.000Z',\n",
              "  'name': 'John',\n",
              "  'email': 'John@john.com'},\n",
              " {'Timestamp': '2025-08-25T08:17:29.000Z',\n",
              "  'name': 'Emma',\n",
              "  'email': 'emma@gmail.com'},\n",
              " {'Timestamp': '2025-08-25T16:17:27.000Z',\n",
              "  'name': 'John',\n",
              "  'email': 'John@john.com'}]"
            ]
          },
          "metadata": {},
          "execution_count": 5
        }
      ]
    },
    {
      "cell_type": "code",
      "source": [
        "#Turn them into a function\n",
        "\n",
        "# Question 1\n",
        "def insert_row(name,email):\n",
        "    response = requests.post(API_URL,json ={\"name\":name,\"email\":email})\n",
        "    return\n",
        "\n",
        "insert_row(\"Emma\", \"emma@gmail.com\")"
      ],
      "metadata": {
        "id": "GLmdygVhBD-w"
      },
      "execution_count": 8,
      "outputs": []
    },
    {
      "cell_type": "code",
      "source": [
        "# Question 2\n",
        "def insert_rows(row):\n",
        "    n = 0\n",
        "    while n < len(row):\n",
        "        for x in row:\n",
        "            name = x.get(\"name\")\n",
        "            email = x.get(\"email\")\n",
        "            response = requests.post(API_URL,json ={\"name\":name,\"email\":email})\n",
        "            n = n + 1\n",
        "        return\n",
        "\n",
        "\n",
        "\n",
        "insert_rows([{\"name\" : \"Bob\",\"email\":\"john@john.com\"},{\"name\" : \"Sam\",\"email\":\"gary@gary.com\"}])\n",
        "\n",
        "\n"
      ],
      "metadata": {
        "id": "WhsKV-ZhCFCA"
      },
      "execution_count": 14,
      "outputs": []
    },
    {
      "cell_type": "code",
      "source": [
        "# Question 3\n",
        "\n",
        "def get_all_rows():\n",
        "    response = requests.get(API_URL)\n",
        "    return print(response.json())\n",
        "\n",
        "get_all_rows()"
      ],
      "metadata": {
        "colab": {
          "base_uri": "https://localhost:8080/"
        },
        "id": "JpoeF2cJDs2J",
        "outputId": "0cc4bd14-b188-4a93-c425-30889f23b7a6"
      },
      "execution_count": null,
      "outputs": [
        {
          "output_type": "stream",
          "name": "stdout",
          "text": [
            "[{'Timestamp': '2025-08-25T06:56:04.000Z', 'name': 'John', 'email': 'John@john.com'}, {'Timestamp': '2025-08-25T07:01:59.000Z', 'name': 'Kitty', 'email': 'kitty123@gmail.com'}, {'Timestamp': '2025-08-25T07:08:26.000Z', 'name': 'Emma', 'email': 'emma@gmail.com'}, {'Timestamp': '2025-08-25T07:32:12.000Z', 'name': 'Kitty', 'email': 'kitty123@gmail.com'}, {'Timestamp': '2025-08-25T07:32:15.000Z', 'name': 'Kitty', 'email': 'kitty123@gmail.com'}, {'Timestamp': '2025-08-25T07:33:39.000Z', 'name': 'Kitty', 'email': 'kitty123@gmail.com'}, {'Timestamp': '2025-08-25T07:34:01.000Z', 'name': 'Kitty', 'email': 'kitty123@gmail.com'}, {'Timestamp': '2025-08-25T07:36:34.000Z', 'name': 'Kitty', 'email': 'kitty123@gmail.com'}, {'Timestamp': '2025-08-25T07:36:57.000Z', 'name': 'John', 'email': 'John@john.com'}, {'Timestamp': '2025-08-25T07:37:27.000Z', 'name': 'John', 'email': 'John@john.com'}, {'Timestamp': '2025-08-25T07:38:10.000Z', 'name': 'John', 'email': 'John@john.com'}, {'Timestamp': '2025-08-25T07:39:16.000Z', 'name': 'John', 'email': 'John@john.com'}, {'Timestamp': '2025-08-25T07:39:20.000Z', 'name': 'John', 'email': 'John@john.com'}, {'Timestamp': '2025-08-25T07:40:38.000Z', 'name': 'John', 'email': 'John@john.com'}, {'Timestamp': '2025-08-25T07:40:42.000Z', 'name': 'John', 'email': 'John@john.com'}, {'Timestamp': '2025-08-25T07:56:48.000Z', 'name': 'John', 'email': 'John@john.com'}, {'Timestamp': '2025-08-25T07:56:52.000Z', 'name': 'John', 'email': 'John@john.com'}]\n"
          ]
        }
      ]
    },
    {
      "cell_type": "code",
      "source": [
        "#Question 4\n",
        "\n",
        "def get_last_row():\n",
        "    response = requests.get(API_URL)\n",
        "    return print(response.json()[-1])\n",
        "\n",
        "get_last_row()"
      ],
      "metadata": {
        "colab": {
          "base_uri": "https://localhost:8080/"
        },
        "id": "gdVgixNaD8VZ",
        "outputId": "fddb82aa-eba3-4299-ef52-1de388f549ed"
      },
      "execution_count": 15,
      "outputs": [
        {
          "output_type": "stream",
          "name": "stdout",
          "text": [
            "{'Timestamp': '2025-08-25T16:48:39.000Z', 'name': 'Sam', 'email': 'gary@gary.com'}\n"
          ]
        }
      ]
    },
    {
      "cell_type": "code",
      "source": [],
      "metadata": {
        "id": "tlv_uGupEnpg"
      },
      "execution_count": null,
      "outputs": []
    }
  ]
}